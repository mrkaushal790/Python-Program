{
 "cells": [
  {
   "cell_type": "code",
   "execution_count": 1,
   "id": "95592b7a-39a4-4115-97b0-49a36d287a6d",
   "metadata": {},
   "outputs": [
    {
     "name": "stdout",
     "output_type": "stream",
     "text": [
      "The strength score for 'StrongPass123!' is: 12\n"
     ]
    }
   ],
   "source": [
    "import re\n",
    "\n",
    "def evaluate_password_strength(password):\n",
    "    score = 0\n",
    "    \n",
    "    # Length of the password\n",
    "    length = len(password)\n",
    "    \n",
    "    # Criteria weights\n",
    "    length_weight = 2\n",
    "    number_weight = 2\n",
    "    symbol_weight = 2\n",
    "    case_variation_weight = 2\n",
    "    \n",
    "    # Length-based scoring\n",
    "    if length >= 8:\n",
    "        score += length_weight\n",
    "    if length >= 12:\n",
    "        score += length_weight\n",
    "    if length >= 16:\n",
    "        score += length_weight\n",
    "    \n",
    "    # Numbers in the password\n",
    "    if re.search(r'\\d', password):\n",
    "        score += number_weight\n",
    "    \n",
    "    # Symbols in the password\n",
    "    if re.search(r'[!@#$%^&*(),.?\":{}|<>]', password):\n",
    "        score += symbol_weight\n",
    "    \n",
    "    # Uppercase and lowercase letters\n",
    "    if re.search(r'[a-z]', password) and re.search(r'[A-Z]', password):\n",
    "        score += case_variation_weight\n",
    "    \n",
    "    # Additional criteria for higher strength\n",
    "    if length >= 8 and re.search(r'\\d', password) and re.search(r'[!@#$%^&*(),.?\":{}|<>]', password) and re.search(r'[a-z]', password) and re.search(r'[A-Z]', password):\n",
    "        score += 2  # Bonus for meeting all criteria\n",
    "\n",
    "    return score\n",
    "\n",
    "# Example usage\n",
    "password = \"StrongPass123!\"\n",
    "strength_score = evaluate_password_strength(password)\n",
    "print(f\"The strength score for '{password}' is: {strength_score}\")\n"
   ]
  },
  {
   "cell_type": "code",
   "execution_count": 2,
   "id": "266a5531-3abd-435e-8eb3-4e41d5b45d7d",
   "metadata": {},
   "outputs": [
    {
     "name": "stdout",
     "output_type": "stream",
     "text": [
      "The prime factorization of 60 is: [(2, 2), (3, 1), (5, 1)]\n"
     ]
    }
   ],
   "source": [
    "def prime_factors(n):\n",
    "    factors = []\n",
    "    divisor = 2\n",
    "    \n",
    "    while n > 1:\n",
    "        exponent = 0\n",
    "        while n % divisor == 0:\n",
    "            n //= divisor\n",
    "            exponent += 1\n",
    "        if exponent > 0:\n",
    "            factors.append((divisor, exponent))\n",
    "        divisor += 1\n",
    "    \n",
    "    return factors\n",
    "\n",
    "# Example usage\n",
    "number = 60\n",
    "result = prime_factors(number)\n",
    "print(f\"The prime factorization of {number} is: {result}\")\n"
   ]
  },
  {
   "cell_type": "code",
   "execution_count": null,
   "id": "de2f4998-04bd-4d1c-9245-959df3eaa265",
   "metadata": {},
   "outputs": [],
   "source": []
  }
 ],
 "metadata": {
  "kernelspec": {
   "display_name": "Python 3 (ipykernel)",
   "language": "python",
   "name": "python3"
  },
  "language_info": {
   "codemirror_mode": {
    "name": "ipython",
    "version": 3
   },
   "file_extension": ".py",
   "mimetype": "text/x-python",
   "name": "python",
   "nbconvert_exporter": "python",
   "pygments_lexer": "ipython3",
   "version": "3.11.5"
  }
 },
 "nbformat": 4,
 "nbformat_minor": 5
}
