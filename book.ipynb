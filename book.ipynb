{
 "cells": [
  {
   "cell_type": "code",
   "execution_count": 1,
   "id": "60f998cf-e800-4c07-8b94-66e4e0bad52b",
   "metadata": {},
   "outputs": [
    {
     "name": "stdout",
     "output_type": "stream",
     "text": [
      "Most borrowed book: Harry Potter\n"
     ]
    }
   ],
   "source": [
    "def most_frequent_book(borrowed_books):\n",
    "    # Dictionary to store the count of each book title\n",
    "    book_count = {}\n",
    "    \n",
    "    # Counting occurrences of each book title\n",
    "    for book_info in borrowed_books:\n",
    "        book_title = book_info[0]\n",
    "        if book_title in book_count:\n",
    "            book_count[book_title] += 1\n",
    "        else:\n",
    "            book_count[book_title] = 1\n",
    "    \n",
    "    # Finding the book with the maximum count\n",
    "    max_count = -1\n",
    "    most_frequent_book_title = None\n",
    "    \n",
    "    for book_title, count in book_count.items():\n",
    "        if count > max_count or (count == max_count and book_title < most_frequent_book_title):\n",
    "            max_count = count\n",
    "            most_frequent_book_title = book_title\n",
    "    \n",
    "    return most_frequent_book_title\n",
    "\n",
    "# Example usage:\n",
    "borrowed_books = [\n",
    "    (\"Harry Potter\", \"Fantasy\", \"J.K. Rowling\"),\n",
    "    (\"Lord of the Rings\", \"Fantasy\", \"J.R.R. Tolkien\"),\n",
    "    (\"Harry Potter\", \"Fantasy\", \"J.K. Rowling\"),\n",
    "    (\"Narnia\", \"Fantasy\", \"C.S. Lewis\"),\n",
    "    (\"Lord of the Rings\", \"Fantasy\", \"J.R.R. Tolkien\"),\n",
    "    (\"Harry Potter\", \"Fantasy\", \"J.K. Rowling\"),\n",
    "    (\"Lord of the Rings\", \"Fantasy\", \"J.R.R. Tolkien\"),\n",
    "    (\"Lord of the Rings\", \"Fantasy\", \"J.R.R. Tolkien\"),\n",
    "    (\"Percy Jackson\", \"Fantasy\", \"Rick Riordan\"),\n",
    "    (\"Harry Potter\", \"Fantasy\", \"J.K. Rowling\")\n",
    "]\n",
    "\n",
    "most_borrowed = most_frequent_book(borrowed_books)\n",
    "print(\"Most borrowed book:\", most_borrowed)  # Output: \"Harry Potter\"\n"
   ]
  },
  {
   "cell_type": "code",
   "execution_count": 2,
   "id": "e588bbfa-798b-4a2d-bce6-6adaaa92c245",
   "metadata": {},
   "outputs": [
    {
     "name": "stdout",
     "output_type": "stream",
     "text": [
      "Most borrowed book: Harry Potter\n",
      "Error: The list of borrowed books is empty.\n"
     ]
    }
   ],
   "source": [
    "def most_frequent_book(borrowed_books):\n",
    "    if not borrowed_books:\n",
    "        raise ValueError(\"The list of borrowed books is empty.\")\n",
    "    \n",
    "    # Dictionary to store the count of each book title\n",
    "    book_count = {}\n",
    "    \n",
    "    # Counting occurrences of each book title\n",
    "    for book_info in borrowed_books:\n",
    "        book_title = book_info[0]\n",
    "        if book_title in book_count:\n",
    "            book_count[book_title] += 1\n",
    "        else:\n",
    "            book_count[book_title] = 1\n",
    "    \n",
    "    # Finding the book with the maximum count\n",
    "    max_count = -1\n",
    "    most_frequent_book_title = None\n",
    "    \n",
    "    for book_title, count in book_count.items():\n",
    "        if count > max_count or (count == max_count and book_title < most_frequent_book_title):\n",
    "            max_count = count\n",
    "            most_frequent_book_title = book_title\n",
    "    \n",
    "    return most_frequent_book_title\n",
    "\n",
    "# Example usage:\n",
    "borrowed_books = [\n",
    "    (\"Harry Potter\", \"Fantasy\", \"J.K. Rowling\"),\n",
    "    (\"Lord of the Rings\", \"Fantasy\", \"J.R.R. Tolkien\"),\n",
    "    (\"Harry Potter\", \"Fantasy\", \"J.K. Rowling\"),\n",
    "    (\"Narnia\", \"Fantasy\", \"C.S. Lewis\"),\n",
    "    (\"Lord of the Rings\", \"Fantasy\", \"J.R.R. Tolkien\"),\n",
    "    (\"Harry Potter\", \"Fantasy\", \"J.K. Rowling\"),\n",
    "    (\"Lord of the Rings\", \"Fantasy\", \"J.R.R. Tolkien\"),\n",
    "    (\"Lord of the Rings\", \"Fantasy\", \"J.R.R. Tolkien\"),\n",
    "    (\"Percy Jackson\", \"Fantasy\", \"Rick Riordan\"),\n",
    "    (\"Harry Potter\", \"Fantasy\", \"J.K. Rowling\")\n",
    "]\n",
    "\n",
    "try:\n",
    "    most_borrowed = most_frequent_book(borrowed_books)\n",
    "    print(\"Most borrowed book:\", most_borrowed)  # Output: \"Harry Potter\"\n",
    "except ValueError as e:\n",
    "    print(\"Error:\", e)\n",
    "\n",
    "# Example with empty list:\n",
    "empty_list = []\n",
    "try:\n",
    "    most_borrowed_empty = most_frequent_book(empty_list)  # Raises ValueError\n",
    "    print(\"Most borrowed book (empty list):\", most_borrowed_empty)\n",
    "except ValueError as e:\n",
    "    print(\"Error:\", e)  # Output: Error: The list of borrowed books is empty.\n"
   ]
  },
  {
   "cell_type": "code",
   "execution_count": 3,
   "id": "82a226ad-66a8-4bb3-8aaa-4cf3f06c138e",
   "metadata": {},
   "outputs": [
    {
     "name": "stdout",
     "output_type": "stream",
     "text": [
      "The most borrowed book is 'Harry Potter' with 4 borrowings.\n",
      "Error: The list of borrowed books is empty.\n"
     ]
    }
   ],
   "source": [
    "def most_frequent_book(borrowed_books):\n",
    "    if not borrowed_books:\n",
    "        raise ValueError(\"The list of borrowed books is empty.\")\n",
    "    \n",
    "    # Dictionary to store the count of each book title\n",
    "    book_count = {}\n",
    "    \n",
    "    # Counting occurrences of each book title\n",
    "    for book_title in borrowed_books:\n",
    "        if book_title in book_count:\n",
    "            book_count[book_title] += 1\n",
    "        else:\n",
    "            book_count[book_title] = 1\n",
    "    \n",
    "    # Finding the book with the maximum count\n",
    "    max_count = -1\n",
    "    most_frequent_book_title = None\n",
    "    \n",
    "    for book_title, count in book_count.items():\n",
    "        if count > max_count or (count == max_count and book_title < most_frequent_book_title):\n",
    "            max_count = count\n",
    "            most_frequent_book_title = book_title\n",
    "    \n",
    "    return most_frequent_book_title, max_count\n",
    "\n",
    "# Example usage:\n",
    "borrowed_books = [\n",
    "    \"Harry Potter\", \"Lord of the Rings\", \"Harry Potter\", \"Narnia\", \n",
    "    \"Lord of the Rings\", \"Harry Potter\", \"Lord of the Rings\", \n",
    "    \"Lord of the Rings\", \"Percy Jackson\", \"Harry Potter\"\n",
    "]\n",
    "\n",
    "try:\n",
    "    most_borrowed, count = most_frequent_book(borrowed_books)\n",
    "    print(f\"The most borrowed book is '{most_borrowed}' with {count} borrowings.\")\n",
    "    # Output: The most borrowed book is 'Lord of the Rings' with 4 borrowings.\n",
    "except ValueError as e:\n",
    "    print(\"Error:\", e)\n",
    "\n",
    "# Example with empty list:\n",
    "empty_list = []\n",
    "try:\n",
    "    most_borrowed_empty, count_empty = most_frequent_book(empty_list)  # Raises ValueError\n",
    "    print(\"Most borrowed book (empty list):\", most_borrowed_empty)\n",
    "except ValueError as e:\n",
    "    print(\"Error:\", e)  # Output: Error: The list of borrowed books is empty.\n"
   ]
  },
  {
   "cell_type": "code",
   "execution_count": 4,
   "id": "1600ea63-6b07-45cb-830e-ecce80d0ef3f",
   "metadata": {},
   "outputs": [
    {
     "name": "stdout",
     "output_type": "stream",
     "text": [
      "The most borrowed book is 'Harry Potter' with 4 borrowings.\n"
     ]
    }
   ],
   "source": [
    "def most_borrowed(borrowed_items):\n",
    "    if not borrowed_items:\n",
    "        raise ValueError(\"The list of borrowed items is empty.\")\n",
    "    \n",
    "    # Dictionary to store the count of each item\n",
    "    item_count = {}\n",
    "    \n",
    "    # Counting occurrences of each item\n",
    "    for item in borrowed_items:\n",
    "        if item in item_count:\n",
    "            item_count[item] += 1\n",
    "        else:\n",
    "            item_count[item] = 1\n",
    "    \n",
    "    # Finding the item with the maximum count\n",
    "    max_count = -1\n",
    "    most_borrowed_item = None\n",
    "    \n",
    "    for item, count in item_count.items():\n",
    "        if count > max_count or (count == max_count and item < most_borrowed_item):\n",
    "            max_count = count\n",
    "            most_borrowed_item = item\n",
    "    \n",
    "    return most_borrowed_item, max_count\n",
    "\n",
    "# Example usage:\n",
    "borrowed_books = [\n",
    "    \"Harry Potter\", \"Lord of the Rings\", \"Harry Potter\", \"Narnia\", \n",
    "    \"Lord of the Rings\", \"Harry Potter\", \"Lord of the Rings\", \n",
    "    \"Lord of the Rings\", \"Percy Jackson\", \"Harry Potter\"\n",
    "]\n",
    "\n",
    "try:\n",
    "    most_borrowed_book, count = most_borrowed(borrowed_books)\n",
    "    print(f\"The most borrowed book is '{most_borrowed_book}' with {count} borrowings.\")\n",
    "    # Output: The most borrowed book is 'Lord of the Rings' with 4 borrowings.\n",
    "except ValueError as e:\n",
    "    print(\"Error:\", e)\n"
   ]
  },
  {
   "cell_type": "code",
   "execution_count": 5,
   "id": "707dc28d-a1e0-473a-ba60-cc3491f7d562",
   "metadata": {},
   "outputs": [
    {
     "name": "stdout",
     "output_type": "stream",
     "text": [
      "The most borrowed book is 'Harry Potter' with 4 borrowings.\n"
     ]
    }
   ],
   "source": [
    "def most_borrowed(borrowed_items):\n",
    "    if not borrowed_items:\n",
    "        raise ValueError(\"The list of borrowed items is empty.\")\n",
    "\n",
    "    item_count = {}\n",
    "    \n",
    "    for item in borrowed_items:\n",
    "        if item in item_count:\n",
    "            item_count[item] += 1\n",
    "        else:\n",
    "            item_count[item] = 1\n",
    "            \n",
    "    max_count = -1\n",
    "    most_borrowed_item = None\n",
    "    \n",
    "    for item, count in item_count.items():\n",
    "        if count > max_count or (count == max_count and item < most_borrowed_item):\n",
    "            max_count = count\n",
    "            most_borrowed_item = item\n",
    "    \n",
    "    return most_borrowed_item, max_count\n",
    "try:\n",
    "    most_borrowed_book, count = most_borrowed(borrowed_books)\n",
    "    print(f\"The most borrowed book is '{most_borrowed_book}' with {count} borrowings.\")\n",
    "except ValueError as e:\n",
    "    print(\"Error:\", e)\n"
   ]
  },
  {
   "cell_type": "code",
   "execution_count": 6,
   "id": "9060ab0d-2f1a-4aab-b0eb-bdd98d14bd08",
   "metadata": {},
   "outputs": [
    {
     "name": "stdout",
     "output_type": "stream",
     "text": [
      "[5]\n"
     ]
    }
   ],
   "source": [
    "def find_max_odd_value_index(sequence):\n",
    "    max_odd_value = None\n",
    "    max_odd_index = None\n",
    "    \n",
    "    for index, num in enumerate(sequence):\n",
    "        if num % 2 != 0:\n",
    "            if max_odd_value is None or num > max_odd_value:\n",
    "                max_odd_value = num\n",
    "                max_odd_index = index\n",
    "    \n",
    "    if max_odd_value is not None:\n",
    "        return [max_odd_index]\n",
    "    else:\n",
    "        return []\n",
    "\n",
    "# Example usage:\n",
    "sequence1 = [1, 9, 4, 6, 10, 11, 14, 8]\n",
    "\n",
    "print(find_max_odd_value_index(sequence1))"
   ]
  },
  {
   "cell_type": "code",
   "execution_count": 7,
   "id": "4978271b-b8a8-40d7-a1a1-7e82b45603d0",
   "metadata": {},
   "outputs": [
    {
     "name": "stdout",
     "output_type": "stream",
     "text": [
      "Covariance Matrix:\n",
      "[[250.  250.  125. ]\n",
      " [250.  250.  125. ]\n",
      " [125.  125.   62.5]]\n"
     ]
    }
   ],
   "source": [
    "import pandas as pd\n",
    "import numpy as np\n",
    "\n",
    "data = {\n",
    "    'Height': [150, 160, 170, 180, 190],\n",
    "    'Weight': [50, 60, 70, 80, 90],\n",
    "    'Age': [20, 25, 30, 35, 40]\n",
    "}\n",
    "\n",
    "df = pd.DataFrame(data)\n",
    "covariance_matrix = np.cov(df.transpose())\n",
    "print(\"Covariance Matrix:\")\n",
    "print(covariance_matrix)\n"
   ]
  },
  {
   "cell_type": "code",
   "execution_count": 8,
   "id": "bc1c3033-d843-4ff9-bf24-19d4542f441a",
   "metadata": {},
   "outputs": [
    {
     "name": "stdout",
     "output_type": "stream",
     "text": [
      "True\n",
      "False\n"
     ]
    }
   ],
   "source": [
    "import string\n",
    "def is_palindrome(s):\n",
    "    s = s.lower()\n",
    "    s = ''.join(char for char in s if char not in string.punctuation and char != ' ')\n",
    "    return s == s[::-1]\n",
    "print(is_palindrome(\"radar\")) \n",
    "print(is_palindrome(\"hello\")) "
   ]
  },
  {
   "cell_type": "code",
   "execution_count": 9,
   "id": "17d8b327-3cf7-4fdc-8965-14277a4532f3",
   "metadata": {},
   "outputs": [
    {
     "name": "stdout",
     "output_type": "stream",
     "text": [
      "5x5 Identity Matrix:\n",
      "[[1. 0. 0. 0. 0.]\n",
      " [0. 1. 0. 0. 0.]\n",
      " [0. 0. 1. 0. 0.]\n",
      " [0. 0. 0. 1. 0.]\n",
      " [0. 0. 0. 0. 1.]]\n"
     ]
    }
   ],
   "source": [
    "import numpy as np\n",
    "\n",
    "identity_matrix = np.eye(5)\n",
    "\n",
    "print(\"5x5 Identity Matrix:\")\n",
    "print(identity_matrix)"
   ]
  },
  {
   "cell_type": "code",
   "execution_count": 19,
   "id": "ed433091-c476-4661-a930-2525c8ee0a71",
   "metadata": {},
   "outputs": [
    {
     "name": "stdout",
     "output_type": "stream",
     "text": [
      "Modified 5x5 Identity Matrix:\n",
      "[[1. 0. 0. 0. 0.]\n",
      " [0. 1. 0. 0. 0.]\n",
      " [0. 0. 1. 0. 0.]\n",
      " [0. 0. 0. 1. 0.]\n",
      " [1. 2. 3. 4. 5.]]\n"
     ]
    }
   ],
   "source": [
    "import numpy as np\n",
    "\n",
    "# Create a 5x5 identity matrix\n",
    "identity_matrix = np.eye(5)\n",
    "\n",
    "# Replace the last row with a sequence from 1 to 5\n",
    "identity_matrix[4] = [1, 2, 3, 4, 5]\n",
    "\n",
    "print(\"Modified 5x5 Identity Matrix:\")\n",
    "print(identity_matrix)"
   ]
  },
  {
   "cell_type": "code",
   "execution_count": 11,
   "id": "9a840bb5-aaf4-43ea-93bb-c2cc20046972",
   "metadata": {},
   "outputs": [
    {
     "name": "stdout",
     "output_type": "stream",
     "text": [
      "Sum of diagonal elements: 9.0\n"
     ]
    }
   ],
   "source": [
    "import numpy as np\n",
    "\n",
    "# Create the modified 5x5 identity matrix\n",
    "identity_matrix = np.eye(5)\n",
    "identity_matrix[-1] = [1, 2, 3, 4, 5]\n",
    "\n",
    "# Calculate the sum of the diagonal elements\n",
    "sum_diagonal = np.trace(identity_matrix)\n",
    "\n",
    "print(\"Sum of diagonal elements:\", sum_diagonal)\n"
   ]
  },
  {
   "cell_type": "code",
   "execution_count": 12,
   "id": "7f2d8974-a8b5-4290-ad81-a3fb2a64c99d",
   "metadata": {},
   "outputs": [
    {
     "name": "stdout",
     "output_type": "stream",
     "text": [
      "Sum of elements in the second and fourth columns: 8.0\n"
     ]
    }
   ],
   "source": [
    "import numpy as np\n",
    "\n",
    "# Create the modified 5x5 identity matrix\n",
    "identity_matrix = np.eye(5)\n",
    "identity_matrix[-1] = [1, 2, 3, 4, 5]\n",
    "\n",
    "# Extract the second and fourth columns (indexing starts from 0)\n",
    "second_column = identity_matrix[:, 1]\n",
    "fourth_column = identity_matrix[:, 3]\n",
    "\n",
    "# Sum their elements\n",
    "sum_second_fourth_columns = np.sum(second_column) + np.sum(fourth_column)\n",
    "\n",
    "print(\"Sum of elements in the second and fourth columns:\", sum_second_fourth_columns)\n"
   ]
  },
  {
   "cell_type": "code",
   "execution_count": 14,
   "id": "95cd1675-364e-4911-9281-0a6684dfc382",
   "metadata": {},
   "outputs": [
    {
     "name": "stdout",
     "output_type": "stream",
     "text": [
      "V\n",
      "XLVIII\n",
      "LXXXIX\n",
      "C\n"
     ]
    }
   ],
   "source": [
    "def convert_to_roman(num):\n",
    "    if not isinstance(num, int) or num < 1 or num > 100:\n",
    "        raise ValueError(\"Input must be an integer between 1 and 100\")\n",
    "\n",
    "    roman_numerals = {\n",
    "        1: 'I', 4: 'IV', 5: 'V', 9: 'IX', 10: 'X', \n",
    "        40: 'XL', 50: 'L', 90: 'XC', 100: 'C'\n",
    "    }\n",
    "\n",
    "    result = ''\n",
    "    for value, numeral in sorted(roman_numerals.items(), key=lambda x: x[0], reverse=True):\n",
    "        while num >= value:\n",
    "            result += numeral\n",
    "            num -= value\n",
    "\n",
    "    return result\n",
    "# Example usage\n",
    "print(convert_to_roman(5))    # Output: \"V\"\n",
    "print(convert_to_roman(48))   # Output: \"XLVIII\"\n",
    "print(convert_to_roman(89))   # Output: \"LXXXIX\"\n",
    "print(convert_to_roman(100))  # Output: \"C\"\n"
   ]
  },
  {
   "cell_type": "code",
   "execution_count": 15,
   "id": "833077eb-979d-47c8-b4f2-8b06bb48ef8b",
   "metadata": {},
   "outputs": [
    {
     "name": "stdout",
     "output_type": "stream",
     "text": [
      "Input must be an integer between 1 and 100\n",
      "Input must be an integer between 1 and 100\n"
     ]
    }
   ],
   "source": [
    "# Edge cases (outside the range)\n",
    "try:\n",
    "    print(convert_to_roman(0))   # Should raise ValueError\n",
    "except ValueError as e:\n",
    "    print(e)  # Output: Input must be an integer between 1 and 100\n",
    "    \n",
    "try:\n",
    "    print(convert_to_roman(150))  # Should raise ValueError\n",
    "except ValueError as e:\n",
    "    print(e)  # Output: Input must be an integer between 1 and 100"
   ]
  },
  {
   "cell_type": "code",
   "execution_count": null,
   "id": "ff57cbd6-5449-436b-9e66-1739ca5fa8ca",
   "metadata": {},
   "outputs": [],
   "source": []
  }
 ],
 "metadata": {
  "kernelspec": {
   "display_name": "Python 3 (ipykernel)",
   "language": "python",
   "name": "python3"
  },
  "language_info": {
   "codemirror_mode": {
    "name": "ipython",
    "version": 3
   },
   "file_extension": ".py",
   "mimetype": "text/x-python",
   "name": "python",
   "nbconvert_exporter": "python",
   "pygments_lexer": "ipython3",
   "version": "3.11.5"
  }
 },
 "nbformat": 4,
 "nbformat_minor": 5
}
