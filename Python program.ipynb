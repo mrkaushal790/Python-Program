{
 "cells": [
  {
   "cell_type": "code",
   "execution_count": 1,
   "id": "e2c2c8a4-40b0-4421-84d6-6cb66e20a448",
   "metadata": {},
   "outputs": [
    {
     "name": "stdin",
     "output_type": "stream",
     "text": [
      "Enter a number:  456\n"
     ]
    },
    {
     "name": "stdout",
     "output_type": "stream",
     "text": [
      "The sum of the digits is: 15\n"
     ]
    }
   ],
   "source": [
    "def sum_of_digits(number):\n",
    "    total_sum = 0\n",
    "    while number > 0:\n",
    "        digit = number % 10\n",
    "        total_sum += digit\n",
    "        number = number // 10\n",
    "    return total_sum\n",
    "num = int(input(\"Enter a number: \"))\n",
    "print(f\"The sum of the digits is: {sum_of_digits(num)}\")"
   ]
  },
  {
   "cell_type": "markdown",
   "id": "d83537cc-8335-4687-bc14-3f6c897f0b4c",
   "metadata": {},
   "source": [
    "1. Program to count the number of each vowel in a string."
   ]
  },
  {
   "cell_type": "code",
   "execution_count": 1,
   "id": "14bb4004-fc84-46dc-9a0d-ea7350c4a30a",
   "metadata": {},
   "outputs": [
    {
     "name": "stdout",
     "output_type": "stream",
     "text": [
      "{'a': 0, 'e': 1, 'i': 0, 'o': 2, 'u': 0, 'A': 0, 'E': 0, 'I': 0, 'O': 0, 'U': 0}\n"
     ]
    }
   ],
   "source": [
    "def count_vowels(s):\n",
    "    vowels = 'aeiouAEIOU'\n",
    "    count = {v: 0 for v in vowels}\n",
    "    for char in s:\n",
    "        if char in vowels:\n",
    "            count[char] += 1\n",
    "    return count\n",
    "\n",
    "string = \"Hello World\"\n",
    "print(count_vowels(string))\n"
   ]
  },
  {
   "cell_type": "markdown",
   "id": "f20f7bc0-0199-453c-ba0c-5ea84b1006da",
   "metadata": {},
   "source": [
    "2. Program to Find Sum of Natural Numbers Using Recursion."
   ]
  },
  {
   "cell_type": "code",
   "execution_count": 3,
   "id": "5775d90e-30ab-4389-a20c-27834879e4b4",
   "metadata": {},
   "outputs": [
    {
     "name": "stdout",
     "output_type": "stream",
     "text": [
      "Sum: 15\n"
     ]
    }
   ],
   "source": [
    "def sum_natural_numbers(n):\n",
    "    if n == 1:\n",
    "        return 1\n",
    "    else:\n",
    "        return n + sum_natural_numbers(n-1)\n",
    "\n",
    "num = 5\n",
    "print(\"Sum:\", sum_natural_numbers(num))\n"
   ]
  },
  {
   "cell_type": "markdown",
   "id": "c259434c-b0f7-4133-9381-731e5f67494a",
   "metadata": {},
   "source": [
    "3. Program to Display Powers of 2 Using Anonymous Function."
   ]
  },
  {
   "cell_type": "code",
   "execution_count": 5,
   "id": "f4dd7e88-1232-4a6c-b7c7-1fd48c718b4b",
   "metadata": {},
   "outputs": [
    {
     "name": "stdout",
     "output_type": "stream",
     "text": [
      "Powers of 2: [1, 2, 4, 8, 16]\n"
     ]
    }
   ],
   "source": [
    "terms = 5\n",
    "result = list(map(lambda x: 2 ** x, range(terms)))\n",
    "print(\"Powers of 2:\", result)\n"
   ]
  },
  {
   "cell_type": "markdown",
   "id": "100f2034-1899-4d7d-9108-8cb16f9bfe21",
   "metadata": {},
   "source": [
    "4. Program to Accept Three Digits and Print all Possible Combinations from the Digits."
   ]
  },
  {
   "cell_type": "code",
   "execution_count": 7,
   "id": "e54b61c6-16e7-482f-912f-57766462cfdf",
   "metadata": {},
   "outputs": [
    {
     "name": "stdout",
     "output_type": "stream",
     "text": [
      "(1, 2, 3)\n",
      "(1, 3, 2)\n",
      "(2, 1, 3)\n",
      "(2, 3, 1)\n",
      "(3, 1, 2)\n",
      "(3, 2, 1)\n"
     ]
    }
   ],
   "source": [
    "from itertools import permutations\n",
    "\n",
    "digits = [1, 2, 3]\n",
    "combinations = list(permutations(digits))\n",
    "for combo in combinations:\n",
    "    print(combo)\n"
   ]
  },
  {
   "cell_type": "markdown",
   "id": "e29c17a9-0b00-48af-b698-3ea0a3845e84",
   "metadata": {},
   "source": [
    "5. Program to Find the Sum of the Series: 1 + x^2/2 + x^3/3 + … x^n/n."
   ]
  },
  {
   "cell_type": "code",
   "execution_count": 9,
   "id": "36c18cde-8c75-4446-8a42-0826fcce9a59",
   "metadata": {},
   "outputs": [
    {
     "name": "stdout",
     "output_type": "stream",
     "text": [
      "Sum of the series: 16.066666666666666\n"
     ]
    }
   ],
   "source": [
    "def sum_of_series(x, n):\n",
    "    result = 1  # The first term is 1\n",
    "    for i in range(2, n+1):\n",
    "        result += (x ** i) / i\n",
    "    return result\n",
    "\n",
    "x = 2\n",
    "n = 5\n",
    "print(\"Sum of the series:\", sum_of_series(x, n))\n"
   ]
  },
  {
   "cell_type": "markdown",
   "id": "5ebbf2a7-6342-4266-bdf1-96b968748b10",
   "metadata": {},
   "source": [
    "6. Program to Create a List of Tuples with the First Element as the Number and Second Element as the Square of the Number."
   ]
  },
  {
   "cell_type": "code",
   "execution_count": 11,
   "id": "95b83786-0039-463c-b52f-cacbdc400984",
   "metadata": {},
   "outputs": [
    {
     "name": "stdout",
     "output_type": "stream",
     "text": [
      "[(1, 1), (2, 4), (3, 9), (4, 16), (5, 25)]\n"
     ]
    }
   ],
   "source": [
    "numbers = [1, 2, 3, 4, 5]\n",
    "squares = [(num, num**2) for num in numbers]\n",
    "print(squares)\n"
   ]
  },
  {
   "cell_type": "markdown",
   "id": "8363250c-1cde-41be-8158-4c2304d3cc7b",
   "metadata": {},
   "source": [
    "7. Program to Count the Frequency of Words Appearing in a String Using a Dictionary."
   ]
  },
  {
   "cell_type": "code",
   "execution_count": 13,
   "id": "83615b94-b3da-4651-bd77-50796bb6bbfb",
   "metadata": {},
   "outputs": [
    {
     "name": "stdout",
     "output_type": "stream",
     "text": [
      "{'This': 2, 'is': 2, 'a': 1, 'test': 1}\n"
     ]
    }
   ],
   "source": [
    "def word_frequency(s):\n",
    "    words = s.split()\n",
    "    freq = {}\n",
    "    for word in words:\n",
    "        freq[word] = freq.get(word, 0) + 1\n",
    "    return freq\n",
    "\n",
    "string = \"This is a test This is\"\n",
    "print(word_frequency(string))\n"
   ]
  },
  {
   "cell_type": "markdown",
   "id": "1cdf3005-6ae9-454d-8ac2-a3708492a95e",
   "metadata": {},
   "source": [
    "8. Program to Remove the Duplicate Items from a List."
   ]
  },
  {
   "cell_type": "code",
   "execution_count": 15,
   "id": "e851878c-0d01-44d6-bd54-519005f51070",
   "metadata": {},
   "outputs": [
    {
     "name": "stdout",
     "output_type": "stream",
     "text": [
      "Unique items: [1, 2, 3, 4, 5]\n"
     ]
    }
   ],
   "source": [
    "def remove_duplicates(lst):\n",
    "    return list(set(lst))\n",
    "\n",
    "items = [1, 2, 2, 3, 4, 4, 5]\n",
    "print(\"Unique items:\", remove_duplicates(items))\n"
   ]
  },
  {
   "cell_type": "markdown",
   "id": "0185a835-e782-4697-9cf2-0de45fa6e0dd",
   "metadata": {},
   "source": [
    "9. Program that Displays which Letters are in the First String but not in the Second."
   ]
  },
  {
   "cell_type": "code",
   "execution_count": 17,
   "id": "8ba0d953-4f4e-4ce9-9396-a1b83560fb15",
   "metadata": {},
   "outputs": [
    {
     "name": "stdout",
     "output_type": "stream",
     "text": [
      "Letters in first but not in second: {'a', 'c', 'b'}\n"
     ]
    }
   ],
   "source": [
    "def unique_letters(str1, str2):\n",
    "    return set(str1) - set(str2)\n",
    "\n",
    "first_string = \"abcdef\"\n",
    "second_string = \"defxyz\"\n",
    "print(\"Letters in first but not in second:\", unique_letters(first_string, second_string))\n"
   ]
  },
  {
   "cell_type": "markdown",
   "id": "54b0b1af-2835-4514-ade5-b7e72c61b359",
   "metadata": {},
   "source": [
    "10. ARS Gems Store – Python program to calculate the bill amount."
   ]
  },
  {
   "cell_type": "code",
   "execution_count": 19,
   "id": "314f073f-4013-479d-a650-6a41b3fbac30",
   "metadata": {},
   "outputs": [
    {
     "name": "stdout",
     "output_type": "stream",
     "text": [
      "Bill amount: 85500.0\n"
     ]
    }
   ],
   "source": [
    "def calculate_bill(gems_list, price_list, gem_purchases):\n",
    "    total = 0\n",
    "    for gem, quantity in gem_purchases.items():\n",
    "        if gem in gems_list:\n",
    "            total += price_list[gems_list.index(gem)] * quantity\n",
    "        else:\n",
    "            return -1  # Gem not available in store\n",
    "    if total > 30000:\n",
    "        total *= 0.95  # Apply 5% discount\n",
    "    return total\n",
    "\n",
    "gems_list = [\"Diamond\", \"Ruby\", \"Emerald\", \"Sapphire\"]\n",
    "price_list = [50000, 10000, 20000, 15000]\n",
    "gem_purchases = {\"Diamond\": 1, \"Emerald\": 2}\n",
    "print(\"Bill amount:\", calculate_bill(gems_list, price_list, gem_purchases))\n"
   ]
  },
  {
   "cell_type": "markdown",
   "id": "e31e8da5-4732-43e3-a562-23023a651315",
   "metadata": {},
   "source": [
    "11. Program to check for adjacent duplicates in a list and count occurrences."
   ]
  },
  {
   "cell_type": "code",
   "execution_count": 21,
   "id": "e7e78138-01da-48f9-b1b4-d83ba5bc1ff8",
   "metadata": {},
   "outputs": [
    {
     "name": "stdout",
     "output_type": "stream",
     "text": [
      "Count of adjacent duplicates: 3\n"
     ]
    }
   ],
   "source": [
    "def count_adjacent_duplicates(lst):\n",
    "    count = 0\n",
    "    for i in range(1, len(lst)):\n",
    "        if lst[i] == lst[i-1]:\n",
    "            count += 1\n",
    "    return count\n",
    "\n",
    "lst = [1,1,5,100,-20,-20,6,0,0]\n",
    "print(\"Count of adjacent duplicates:\", count_adjacent_duplicates(lst))\n"
   ]
  },
  {
   "cell_type": "markdown",
   "id": "058e89cb-e58a-4430-8aa0-1702bc5e1194",
   "metadata": {},
   "source": [
    "12. Program to Count the Occurrences of a Word in a Text File."
   ]
  },
  {
   "cell_type": "code",
   "execution_count": 34,
   "id": "f83872c2-abe6-4a03-a607-c8b084331847",
   "metadata": {},
   "outputs": [
    {
     "name": "stdout",
     "output_type": "stream",
     "text": [
      "The file example.txt was not found.\n"
     ]
    }
   ],
   "source": [
    "def count_word_occurrences(filename, word):\n",
    "    try:\n",
    "        # Open the file for reading\n",
    "        with open(filename, 'r') as file:\n",
    "            text = file.read()\n",
    "        \n",
    "        # Convert the text to lowercase to make the word count case-insensitive\n",
    "        text = text.lower()\n",
    "        word = word.lower()\n",
    "\n",
    "        # Split the text into words\n",
    "        words = text.split()\n",
    "\n",
    "        # Count the occurrences of the given word\n",
    "        count = words.count(word)\n",
    "        \n",
    "        return count\n",
    "    \n",
    "    except FileNotFoundError:\n",
    "        print(f\"The file {filename} was not found.\")\n",
    "    except Exception as e:\n",
    "        print(f\"An error occurred: {e}\")\n",
    "\n",
    "# Example usage\n",
    "filename = \"example.txt\"\n",
    "word = \"test\"\n",
    "occurrences = count_word_occurrences(filename, word)\n",
    "if occurrences is not None:\n",
    "    print(f\"The word '{word}' occurs {occurrences} time(s) in the file.\")\n"
   ]
  },
  {
   "cell_type": "markdown",
   "id": "209428d3-9b2a-40eb-b3d6-5a54ba86659e",
   "metadata": {},
   "source": [
    "13. Program to Read a File and Capitalize the First Letter of Every Word in the File."
   ]
  },
  {
   "cell_type": "code",
   "execution_count": 33,
   "id": "3de184e2-e2fc-4074-ba73-db15fc69fde0",
   "metadata": {},
   "outputs": [
    {
     "name": "stdout",
     "output_type": "stream",
     "text": [
      "The file example.txt was not found.\n"
     ]
    }
   ],
   "source": [
    "def capitalize_words_in_file(filename):\n",
    "    try:\n",
    "        # Open the file for reading\n",
    "        with open(filename, 'r') as file:\n",
    "            text = file.read()\n",
    "        \n",
    "        # Capitalize the first letter of every word\n",
    "        capitalized_text = text.title()\n",
    "        \n",
    "        # Open the file for writing (overwrite mode)\n",
    "        with open(filename, 'w') as file:\n",
    "            file.write(capitalized_text)\n",
    "        \n",
    "        print(\"File updated with capitalized words.\")\n",
    "    \n",
    "    except FileNotFoundError:\n",
    "        print(f\"The file {filename} was not found.\")\n",
    "    except Exception as e:\n",
    "        print(f\"An error occurred: {e}\")\n",
    "\n",
    "# Example usage\n",
    "filename = \"example.txt\"\n",
    "capitalize_words_in_file(filename)\n"
   ]
  },
  {
   "cell_type": "markdown",
   "id": "a5c690f1-d07a-4358-91d9-0e13cb8a502f",
   "metadata": {},
   "source": [
    "14. Program to Create a Class which Performs Basic Calculator Operations."
   ]
  },
  {
   "cell_type": "code",
   "execution_count": 28,
   "id": "c8776d35-fd35-410b-bc0c-98a8cc7b22c9",
   "metadata": {},
   "outputs": [
    {
     "name": "stdout",
     "output_type": "stream",
     "text": [
      "Addition: 8\n",
      "Division: 5.0\n"
     ]
    }
   ],
   "source": [
    "class Calculator:\n",
    "    def add(self, x, y):\n",
    "        return x + y\n",
    "\n",
    "    def subtract(self, x, y):\n",
    "        return x - y\n",
    "\n",
    "    def multiply(self, x, y):\n",
    "        return x * y\n",
    "\n",
    "    def divide(self, x, y):\n",
    "        if y == 0:\n",
    "            return \"Cannot divide by zero\"\n",
    "        return x / y\n",
    "\n",
    "calc = Calculator()\n",
    "print(\"Addition:\", calc.add(5, 3))\n",
    "print(\"Division:\", calc.divide(10, 2))\n"
   ]
  },
  {
   "cell_type": "markdown",
   "id": "de7932b8-cd84-4e0e-8c07-9adaf659bdd6",
   "metadata": {},
   "source": [
    "15. Program to Find the Area of a Rectangle Using Classes."
   ]
  },
  {
   "cell_type": "code",
   "execution_count": 30,
   "id": "90e254c4-2971-47ec-b1e9-9e7ef252dcc4",
   "metadata": {},
   "outputs": [
    {
     "name": "stdout",
     "output_type": "stream",
     "text": [
      "Area of the rectangle: 15\n"
     ]
    }
   ],
   "source": [
    "class Rectangle:\n",
    "    def __init__(self, length, width):\n",
    "        self.length = length\n",
    "        self.width = width\n",
    "    \n",
    "    def area(self):\n",
    "        return self.length * self.width\n",
    "\n",
    "rect = Rectangle(5, 3)\n",
    "print(\"Area of the rectangle:\", rect.area())\n"
   ]
  },
  {
   "cell_type": "code",
   "execution_count": null,
   "id": "5e73c203-753c-4286-960b-4aeafb86342f",
   "metadata": {},
   "outputs": [],
   "source": []
  }
 ],
 "metadata": {
  "kernelspec": {
   "display_name": "Python 3 (ipykernel)",
   "language": "python",
   "name": "python3"
  },
  "language_info": {
   "codemirror_mode": {
    "name": "ipython",
    "version": 3
   },
   "file_extension": ".py",
   "mimetype": "text/x-python",
   "name": "python",
   "nbconvert_exporter": "python",
   "pygments_lexer": "ipython3",
   "version": "3.11.5"
  }
 },
 "nbformat": 4,
 "nbformat_minor": 5
}
