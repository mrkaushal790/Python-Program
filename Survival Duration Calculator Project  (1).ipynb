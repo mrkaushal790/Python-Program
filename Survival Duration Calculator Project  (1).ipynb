{
 "cells": [
  {
   "cell_type": "code",
   "execution_count": null,
   "id": "1a14e630",
   "metadata": {},
   "outputs": [],
   "source": [
    "import datetime\n",
    "currentDate = datetime.datetime.now()\n",
    "\n",
    "deadline= input (\" Enter your date of birth (mm/dd/yyyy) \")\n",
    "deadlineDate= datetime.datetime.strptime(deadline,'%m/%d/%Y')\n",
    "print (deadlineDate)\n",
    "daysLeft = currentDate - deadlineDate\n",
    "print(daysLeft)\n",
    "\n",
    "years = ((daysLeft.total_seconds())/(365.242243600))\n",
    "yearsInt=int(years)\n",
    "\n",
    "months=(years-yearsInt)*12\n",
    "monthsInt=int(months)\n",
    "\n",
    "days=(months-monthsInt)*(365.242/12)\n",
    "daysInt=int(days)\n",
    "\n",
    "hours = (days-daysInt)*24\n",
    "hoursInt=int(hours)\n",
    "\n",
    "minutes = (hours-hoursInt)*60\n",
    "minutesInt=int(minutes)\n",
    "\n",
    "seconds = (minutes-minutesInt)*60\n",
    "secondsInt =int(seconds)\n",
    "\n",
    "print('You are {0:d} years, {1:d} months, {2:d} days, {3:d} hours, {4:d} \\\n",
    "minutes, {5:d} seconds old.'.format(yearsInt,monthsInt,daysInt,hoursInt,minutesInt,secondsInt))"
   ]
  },
  {
   "cell_type": "code",
   "execution_count": null,
   "id": "8c418cdb",
   "metadata": {},
   "outputs": [],
   "source": []
  }
 ],
 "metadata": {
  "kernelspec": {
   "display_name": "Python 3 (ipykernel)",
   "language": "python",
   "name": "python3"
  },
  "language_info": {
   "codemirror_mode": {
    "name": "ipython",
    "version": 3
   },
   "file_extension": ".py",
   "mimetype": "text/x-python",
   "name": "python",
   "nbconvert_exporter": "python",
   "pygments_lexer": "ipython3",
   "version": "3.11.5"
  }
 },
 "nbformat": 4,
 "nbformat_minor": 5
}
