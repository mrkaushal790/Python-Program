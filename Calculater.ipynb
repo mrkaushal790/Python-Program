{
 "cells": [
  {
   "cell_type": "code",
   "execution_count": 2,
   "id": "e2e7a63a",
   "metadata": {},
   "outputs": [
    {
     "name": "stdout",
     "output_type": "stream",
     "text": [
      "enter first number : 50\n",
      "enter operator (+,-,*,/,%) : /\n",
      "enter second number : 8\n",
      "6.25\n"
     ]
    }
   ],
   "source": [
    "#calculater\n",
    "\n",
    "first = input(\"enter first number : \")\n",
    "operator = input(\"enter operator (+,-,*,/,%) : \")\n",
    "second = input(\"enter second number : \")\n",
    "first = int(first)\n",
    "second = int(second)\n",
    "\n",
    "if operator == \"+\":\n",
    "    print(first + second)\n",
    "elif operator == \"-\":\n",
    "    print(first - second)\n",
    "elif operator == \"*\":\n",
    "    print(first * second)\n",
    "elif operator == \"/\":\n",
    "    print(first / second)\n",
    "elif operator == \"%\":\n",
    "    print(first % second)\n",
    "else:\n",
    "    print(\"Invalid Operation\")\n"
   ]
  },
  {
   "cell_type": "code",
   "execution_count": null,
   "id": "0250b4cb",
   "metadata": {},
   "outputs": [],
   "source": []
  }
 ],
 "metadata": {
  "kernelspec": {
   "display_name": "Python 3 (ipykernel)",
   "language": "python",
   "name": "python3"
  },
  "language_info": {
   "codemirror_mode": {
    "name": "ipython",
    "version": 3
   },
   "file_extension": ".py",
   "mimetype": "text/x-python",
   "name": "python",
   "nbconvert_exporter": "python",
   "pygments_lexer": "ipython3",
   "version": "3.11.5"
  }
 },
 "nbformat": 4,
 "nbformat_minor": 5
}
