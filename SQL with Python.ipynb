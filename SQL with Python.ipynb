{
 "cells": [
  {
   "cell_type": "code",
   "execution_count": 1,
   "id": "6a224f81",
   "metadata": {},
   "outputs": [],
   "source": [
    "import sqlite3"
   ]
  },
  {
   "cell_type": "code",
   "execution_count": 2,
   "id": "f0a00a6e",
   "metadata": {},
   "outputs": [],
   "source": [
    "### Create a database in Ram\n",
    "db= sqlite3.connect(':memory:')"
   ]
  },
  {
   "cell_type": "code",
   "execution_count": 3,
   "id": "1e612341",
   "metadata": {},
   "outputs": [],
   "source": [
    "### Get a cursor object \n",
    "cursor=db.cursor()"
   ]
  },
  {
   "cell_type": "code",
   "execution_count": 4,
   "id": "d4315c35",
   "metadata": {},
   "outputs": [
    {
     "data": {
      "text/plain": [
       "<sqlite3.Cursor at 0x1e8ff96be40>"
      ]
     },
     "execution_count": 4,
     "metadata": {},
     "output_type": "execute_result"
    }
   ],
   "source": [
    "cursor.execute('''\n",
    "        CREATE TABLE Ages(\n",
    "        name varchar(120),\n",
    "        age integer\n",
    ")''')"
   ]
  },
  {
   "cell_type": "code",
   "execution_count": 5,
   "id": "fc002397",
   "metadata": {},
   "outputs": [
    {
     "data": {
      "text/plain": [
       "<sqlite3.Cursor at 0x1e8ff96be40>"
      ]
     },
     "execution_count": 5,
     "metadata": {},
     "output_type": "execute_result"
    }
   ],
   "source": [
    "cursor.execute('''DELETE FROM Ages''')"
   ]
  },
  {
   "cell_type": "code",
   "execution_count": 6,
   "id": "ed199b09",
   "metadata": {},
   "outputs": [
    {
     "data": {
      "text/plain": [
       "<sqlite3.Cursor at 0x1e8ff96be40>"
      ]
     },
     "execution_count": 6,
     "metadata": {},
     "output_type": "execute_result"
    }
   ],
   "source": [
    "cursor.execute('''insert into Ages values ('Mara',28)''')\n",
    "cursor.execute('''insert into Ages values ('Otto',33)''')\n",
    "cursor.execute('''insert into Ages values ('Fyn',31)''')\n",
    "cursor.execute('''insert into Ages values ('Neshawn',17)''')"
   ]
  },
  {
   "cell_type": "code",
   "execution_count": 7,
   "id": "0e3f0190",
   "metadata": {},
   "outputs": [
    {
     "data": {
      "text/plain": [
       "<sqlite3.Cursor at 0x1e8ff96be40>"
      ]
     },
     "execution_count": 7,
     "metadata": {},
     "output_type": "execute_result"
    }
   ],
   "source": [
    "cursor.execute('''select * from Ages ''')"
   ]
  },
  {
   "cell_type": "code",
   "execution_count": 8,
   "id": "2012757d",
   "metadata": {},
   "outputs": [],
   "source": [
    "rows=cursor.fetchall()"
   ]
  },
  {
   "cell_type": "code",
   "execution_count": 9,
   "id": "a9669078",
   "metadata": {},
   "outputs": [
    {
     "name": "stdout",
     "output_type": "stream",
     "text": [
      "('Mara', 28)\n",
      "('Otto', 33)\n",
      "('Fyn', 31)\n",
      "('Neshawn', 17)\n"
     ]
    }
   ],
   "source": [
    "for row in rows:\n",
    "    print(row)"
   ]
  },
  {
   "cell_type": "code",
   "execution_count": 10,
   "id": "65097579",
   "metadata": {},
   "outputs": [
    {
     "data": {
      "text/plain": [
       "<sqlite3.Cursor at 0x1e8ff96be40>"
      ]
     },
     "execution_count": 10,
     "metadata": {},
     "output_type": "execute_result"
    }
   ],
   "source": [
    "cursor.execute('''select * from Ages where name=\"Fyn\"''')"
   ]
  },
  {
   "cell_type": "code",
   "execution_count": 11,
   "id": "c52d3d31",
   "metadata": {},
   "outputs": [],
   "source": [
    "rows=cursor.fetchone()"
   ]
  },
  {
   "cell_type": "code",
   "execution_count": 12,
   "id": "859712be",
   "metadata": {},
   "outputs": [
    {
     "name": "stdout",
     "output_type": "stream",
     "text": [
      "Fyn\n",
      "31\n"
     ]
    }
   ],
   "source": [
    "for row in rows:\n",
    "    print(row)"
   ]
  },
  {
   "cell_type": "code",
   "execution_count": 13,
   "id": "aaf4557e",
   "metadata": {},
   "outputs": [
    {
     "data": {
      "text/plain": [
       "<sqlite3.Cursor at 0x1e8ff96be40>"
      ]
     },
     "execution_count": 13,
     "metadata": {},
     "output_type": "execute_result"
    }
   ],
   "source": [
    "cursor.execute('''update Ages set age=30 where name=\"Mara\"''')"
   ]
  },
  {
   "cell_type": "code",
   "execution_count": 14,
   "id": "f0932697",
   "metadata": {},
   "outputs": [
    {
     "data": {
      "text/plain": [
       "<sqlite3.Cursor at 0x1e8ff96be40>"
      ]
     },
     "execution_count": 14,
     "metadata": {},
     "output_type": "execute_result"
    }
   ],
   "source": [
    "cursor.execute('''delete from Ages where name=\"Otto\"''')"
   ]
  },
  {
   "cell_type": "code",
   "execution_count": 15,
   "id": "94b3d6ab",
   "metadata": {},
   "outputs": [
    {
     "data": {
      "text/plain": [
       "<sqlite3.Cursor at 0x1e8ff96be40>"
      ]
     },
     "execution_count": 15,
     "metadata": {},
     "output_type": "execute_result"
    }
   ],
   "source": [
    "cursor.execute('''pragma tabel_info(Ages)''')"
   ]
  },
  {
   "cell_type": "code",
   "execution_count": 16,
   "id": "58939af0",
   "metadata": {},
   "outputs": [
    {
     "data": {
      "text/plain": [
       "<sqlite3.Cursor at 0x1e8ff96be40>"
      ]
     },
     "execution_count": 16,
     "metadata": {},
     "output_type": "execute_result"
    }
   ],
   "source": [
    "cursor.execute('''alter table Ages add column email varchar(255)''')"
   ]
  },
  {
   "cell_type": "code",
   "execution_count": 17,
   "id": "2f038051",
   "metadata": {},
   "outputs": [
    {
     "data": {
      "text/plain": [
       "<sqlite3.Cursor at 0x1e8ff96be40>"
      ]
     },
     "execution_count": 17,
     "metadata": {},
     "output_type": "execute_result"
    }
   ],
   "source": [
    "cursor.execute('''update Ages set email=\"fyn31@gmail.com\" where name=\"Fyn\"''')"
   ]
  },
  {
   "cell_type": "code",
   "execution_count": 18,
   "id": "2645f216",
   "metadata": {},
   "outputs": [
    {
     "data": {
      "text/plain": [
       "<sqlite3.Cursor at 0x1e8ff96be40>"
      ]
     },
     "execution_count": 18,
     "metadata": {},
     "output_type": "execute_result"
    }
   ],
   "source": [
    "cursor.execute('''update Ages set email=\"mara30@gmail.com\" where name=\"Mara\"''')"
   ]
  },
  {
   "cell_type": "code",
   "execution_count": null,
   "id": "a7525f4c",
   "metadata": {},
   "outputs": [],
   "source": []
  }
 ],
 "metadata": {
  "kernelspec": {
   "display_name": "Python 3 (ipykernel)",
   "language": "python",
   "name": "python3"
  },
  "language_info": {
   "codemirror_mode": {
    "name": "ipython",
    "version": 3
   },
   "file_extension": ".py",
   "mimetype": "text/x-python",
   "name": "python",
   "nbconvert_exporter": "python",
   "pygments_lexer": "ipython3",
   "version": "3.11.5"
  }
 },
 "nbformat": 4,
 "nbformat_minor": 5
}
