{
 "cells": [
  {
   "cell_type": "code",
   "execution_count": 17,
   "id": "c67d6922-8b33-4665-b2d8-cc37b2c4c86c",
   "metadata": {},
   "outputs": [
    {
     "name": "stdin",
     "output_type": "stream",
     "text": [
      "Enter the number 46546\n"
     ]
    },
    {
     "ename": "NameError",
     "evalue": "name 'number_str' is not defined",
     "output_type": "error",
     "traceback": [
      "\u001b[1;31m---------------------------------------------------------------------------\u001b[0m",
      "\u001b[1;31mNameError\u001b[0m                                 Traceback (most recent call last)",
      "Cell \u001b[1;32mIn[17], line 11\u001b[0m\n\u001b[0;32m      8\u001b[0m     \u001b[38;5;28;01mreturn\u001b[39;00m total_sum\n\u001b[0;32m     10\u001b[0m number\u001b[38;5;241m=\u001b[39m \u001b[38;5;28mint\u001b[39m(\u001b[38;5;28minput\u001b[39m(\u001b[38;5;124m\"\u001b[39m\u001b[38;5;124mEnter the number\u001b[39m\u001b[38;5;124m\"\u001b[39m))\n\u001b[1;32m---> 11\u001b[0m result \u001b[38;5;241m=\u001b[39m sum_of_digits(number)\n\u001b[0;32m     12\u001b[0m \u001b[38;5;28mprint\u001b[39m(\u001b[38;5;124mf\u001b[39m\u001b[38;5;124m\"\u001b[39m\u001b[38;5;124mthe sum of digit \u001b[39m\u001b[38;5;132;01m{\u001b[39;00mnumber\u001b[38;5;132;01m}\u001b[39;00m\u001b[38;5;124m: \u001b[39m\u001b[38;5;132;01m{\u001b[39;00mresult\u001b[38;5;132;01m}\u001b[39;00m\u001b[38;5;124m\"\u001b[39m)\n",
      "Cell \u001b[1;32mIn[17], line 6\u001b[0m, in \u001b[0;36msum_of_digits\u001b[1;34m(number)\u001b[0m\n\u001b[0;32m      2\u001b[0m num_str\u001b[38;5;241m=\u001b[39m \u001b[38;5;28mstr\u001b[39m(\u001b[38;5;28mint\u001b[39m(number))\n\u001b[0;32m      3\u001b[0m total_sum\u001b[38;5;241m=\u001b[39m\u001b[38;5;241m0\u001b[39m\n\u001b[1;32m----> 6\u001b[0m \u001b[38;5;28;01mfor\u001b[39;00m digit \u001b[38;5;129;01min\u001b[39;00m number_str:\n\u001b[0;32m      7\u001b[0m     total_sum \u001b[38;5;241m+\u001b[39m\u001b[38;5;241m=\u001b[39m \u001b[38;5;28mint\u001b[39m(digit)\n\u001b[0;32m      8\u001b[0m \u001b[38;5;28;01mreturn\u001b[39;00m total_sum\n",
      "\u001b[1;31mNameError\u001b[0m: name 'number_str' is not defined"
     ]
    }
   ],
   "source": [
    "def sum_of_digits(number):\n",
    "    num_str= str(int(number))\n",
    "    total_sum=0\n",
    "    for digit in number_str:\n",
    "        total_sum += int(digit)\n",
    "    return total_sum\n",
    "\n",
    "number= int(input(\"Enter the number\"))\n",
    "result = sum_of_digits(number)\n",
    "print(f\"the sum of digit {number}: {result}\")\n",
    "\n"
   ]
  },
  {
   "cell_type": "code",
   "execution_count": 11,
   "id": "db7ae691-9e0d-47a0-a47b-68a4eac0d1f4",
   "metadata": {},
   "outputs": [
    {
     "name": "stdin",
     "output_type": "stream",
     "text": [
      "Enter a number:  4545\n"
     ]
    },
    {
     "name": "stdout",
     "output_type": "stream",
     "text": [
      "The sum of the digits is: 18\n"
     ]
    }
   ],
   "source": [
    "def sum_of_digits(number):\n",
    "    total_sum = 0\n",
    "    while number > 0:\n",
    "        digit = number % 10\n",
    "        total_sum += digit\n",
    "        number = number // 10\n",
    "    return total_sum\n",
    "num = int(input(\"Enter a number: \"))\n",
    "print(f\"The sum of the digits is: {sum_of_digits(num)}\")"
   ]
  },
  {
   "cell_type": "code",
   "execution_count": 14,
   "id": "035422e1-b8b9-42d7-89be-d7dd1a51d580",
   "metadata": {},
   "outputs": [
    {
     "name": "stdin",
     "output_type": "stream",
     "text": [
      "Enter a number:  45\n"
     ]
    },
    {
     "name": "stdout",
     "output_type": "stream",
     "text": [
      "The sum of the digits is: 9\n"
     ]
    }
   ],
   "source": [
    "def sum_of_digits(number):\n",
    "    return sum(int(digit) \n",
    "               for digit in str(number))\n",
    "num = int(input(\"Enter a number: \"))\n",
    "print(f\"The sum of the digits is: {sum_of_digits(num)}\")"
   ]
  },
  {
   "cell_type": "code",
   "execution_count": 16,
   "id": "05ed6c00-f360-4715-86c9-216332a6ecad",
   "metadata": {},
   "outputs": [
    {
     "name": "stdin",
     "output_type": "stream",
     "text": [
      "Enter the number:  465655\n"
     ]
    },
    {
     "name": "stdout",
     "output_type": "stream",
     "text": [
      "The sum of the digits of 465655 is: 31\n"
     ]
    }
   ],
   "source": [
    "def sum_of_digits(number):\n",
    "    num_str = str(int(number))\n",
    "    total_sum = 0\n",
    "    for digit in num_str:\n",
    "        total_sum += int(digit)\n",
    "    \n",
    "    return total_sum\n",
    "number = int(input(\"Enter the number: \"))\n",
    "result = sum_of_digits(number)\n",
    "print(f\"The sum of the digits of {number} is: {result}\")\n"
   ]
  },
  {
   "cell_type": "code",
   "execution_count": null,
   "id": "344e8618-6b85-49a8-8831-fbcecab4f3f9",
   "metadata": {},
   "outputs": [],
   "source": [
    "class Triangle:\n",
    "    def __init__(self, base, height):\n",
    "        self.base = base\n",
    "        self.height = height\n",
    "    \n",
    "    def area(self):\n",
    "        return 0.5 * self.base * self.height\n",
    "\n",
    "triangle = Triangle(5, 3)\n",
    "print(\"Area of the triangle:\", triangle.area())\n"
   ]
  },
  {
   "cell_type": "code",
   "execution_count": null,
   "id": "198f230a-e6db-4ad3-b7a7-0b1f5261ce80",
   "metadata": {},
   "outputs": [],
   "source": [
    "class Triangle:\n",
    "    def __init__(self, base, height):\n",
    "        self.base = base\n",
    "        self.height = height\n",
    "    \n",
    "    def area(self):\n",
    "        return 0.5 * self.base * self.height\n",
    "\n",
    "base = int(input(\"Enter the base of the triangle: \"))\n",
    "height = int(input(\"Enter the height of the triangle: \"))\n",
    "\n",
    "triangle = Triangle(base, height)\n",
    "print(f\"The area of the triangle is: {triangle.area()}\")"
   ]
  },
  {
   "cell_type": "code",
   "execution_count": null,
   "id": "68f0134a-879e-47bc-b500-b3be6e318578",
   "metadata": {},
   "outputs": [],
   "source": []
  }
 ],
 "metadata": {
  "kernelspec": {
   "display_name": "Python 3 (ipykernel)",
   "language": "python",
   "name": "python3"
  },
  "language_info": {
   "codemirror_mode": {
    "name": "ipython",
    "version": 3
   },
   "file_extension": ".py",
   "mimetype": "text/x-python",
   "name": "python",
   "nbconvert_exporter": "python",
   "pygments_lexer": "ipython3",
   "version": "3.11.5"
  }
 },
 "nbformat": 4,
 "nbformat_minor": 5
}
