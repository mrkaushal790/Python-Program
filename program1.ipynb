{
 "cells": [
  {
   "cell_type": "code",
   "execution_count": 5,
   "id": "95502c10-0fd3-4ca9-96b9-3cc1679ad95c",
   "metadata": {},
   "outputs": [
    {
     "name": "stdout",
     "output_type": "stream",
     "text": [
      "Elements of the array:\n",
      "10\n",
      "20\n",
      "30\n",
      "40\n",
      "50\n"
     ]
    }
   ],
   "source": [
    "# Importing the array module\n",
    "import array\n",
    "\n",
    "# Create an array of integers\n",
    "my_array = array.array('i', [10, 20, 30, 40, 50])\n",
    "\n",
    "# Traverse and print each element of the array\n",
    "print(\"Elements of the array:\")\n",
    "for element in my_array:\n",
    "    print(element)\n"
   ]
  },
  {
   "cell_type": "code",
   "execution_count": 6,
   "id": "99573423-5972-4532-9a0b-449277ab124e",
   "metadata": {},
   "outputs": [
    {
     "name": "stdin",
     "output_type": "stream",
     "text": [
      "Enter the element to insert:  25\n",
      "Enter the position (0-based index) where the element should be inserted:  2\n"
     ]
    },
    {
     "name": "stdout",
     "output_type": "stream",
     "text": [
      "\n",
      "Array after insertion:\n",
      "[10, 20, 25, 30, 40, 50]\n"
     ]
    }
   ],
   "source": [
    "# Importing the array module\n",
    "import array\n",
    "\n",
    "# Create an array of integers\n",
    "my_array = array.array('i', [10, 20, 30, 40, 50])\n",
    "\n",
    "# Input the element to be inserted and the position (K)\n",
    "element = int(input(\"Enter the element to insert: \"))\n",
    "k = int(input(\"Enter the position (0-based index) where the element should be inserted: \"))\n",
    "\n",
    "# Ensure the position is valid\n",
    "if 0 <= k <= len(my_array):\n",
    "    # Insert the element at the specified position\n",
    "    my_array.insert(k, element)\n",
    "    print(\"\\nArray after insertion:\")\n",
    "    print(list(my_array))\n",
    "else:\n",
    "    print(\"\\nInvalid position. Please enter a position between 0 and\", len(my_array))\n"
   ]
  },
  {
   "cell_type": "markdown",
   "id": "18cb92cd-25f9-4287-9a07-05dfc3cc053f",
   "metadata": {},
   "source": [
    "Write a program to delete an element from the array with given item of information. "
   ]
  },
  {
   "cell_type": "code",
   "execution_count": 8,
   "id": "29930720-62e9-428d-a6d1-a0c4792918fe",
   "metadata": {},
   "outputs": [
    {
     "name": "stdin",
     "output_type": "stream",
     "text": [
      "Enter the element to delete:  30\n"
     ]
    },
    {
     "name": "stdout",
     "output_type": "stream",
     "text": [
      "\n",
      "Array after deletion:\n",
      "[10, 20, 40, 50]\n"
     ]
    }
   ],
   "source": [
    "# Importing the array module\n",
    "import array\n",
    "\n",
    "# Create an array of integers\n",
    "my_array = array.array('i', [10, 20, 30, 40, 50])\n",
    "\n",
    "# Input the element to be deleted\n",
    "element = int(input(\"Enter the element to delete: \"))\n",
    "\n",
    "# Check if the element exists in the array\n",
    "if element in my_array:\n",
    "    # Remove the element\n",
    "    my_array.remove(element)\n",
    "    print(\"\\nArray after deletion:\")\n",
    "    print(list(my_array))\n",
    "else:\n",
    "    print(\"\\nElement not found in the array.\")\n"
   ]
  },
  {
   "cell_type": "code",
   "execution_count": null,
   "id": "d27c9399-3e31-4d8d-b90d-910668dde335",
   "metadata": {},
   "outputs": [],
   "source": []
  }
 ],
 "metadata": {
  "kernelspec": {
   "display_name": "Python 3 (ipykernel)",
   "language": "python",
   "name": "python3"
  },
  "language_info": {
   "codemirror_mode": {
    "name": "ipython",
    "version": 3
   },
   "file_extension": ".py",
   "mimetype": "text/x-python",
   "name": "python",
   "nbconvert_exporter": "python",
   "pygments_lexer": "ipython3",
   "version": "3.11.5"
  }
 },
 "nbformat": 4,
 "nbformat_minor": 5
}
