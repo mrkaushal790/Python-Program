{
 "cells": [
  {
   "cell_type": "code",
   "execution_count": 40,
   "id": "8b6e9976-d0ef-4658-a4c9-2ad50e9b246f",
   "metadata": {},
   "outputs": [
    {
     "name": "stdout",
     "output_type": "stream",
     "text": [
      "306\n",
      "375\n",
      "-1\n",
      "-1\n",
      "-1\n"
     ]
    }
   ],
   "source": [
    "def calculate_final_bill(food_type, quantity, distance):\n",
    "    # Validate the inputs\n",
    "    if food_type not in ['V', 'N']:\n",
    "        return -1  # Invalid food type\n",
    "    if quantity < 1:\n",
    "        return -1  # Invalid quantity\n",
    "    if distance <= 0:\n",
    "        return -1  # Invalid distance\n",
    "\n",
    "    # Set the price per plate based on food type\n",
    "    if food_type == 'V':\n",
    "        price_per_plate = 120  # Vegetarian combo price\n",
    "    elif food_type == 'N':\n",
    "        price_per_plate = 150  # Non-vegetarian combo price\n",
    "\n",
    "    # Calculate delivery charges based on the distance\n",
    "    if distance <= 3:\n",
    "        delivery_charge = 0\n",
    "    elif distance <= 6:\n",
    "        delivery_charge = (distance - 3) * 3  # Rs. 3/km for 4-6 km\n",
    "    else:\n",
    "        delivery_charge = 9 + (distance - 6) * 6  # Rs. 9 for 4-6 km, Rs. 6/km beyond 6 km\n",
    "\n",
    "    # Calculate the total food cost\n",
    "    food_cost = price_per_plate * quantity\n",
    "\n",
    "    # Calculate the final bill (food cost + delivery charges)\n",
    "    total_bill = food_cost + delivery_charge\n",
    "\n",
    "    return total_bill\n",
    "\n",
    "# Test cases to verify the solution\n",
    "print(calculate_final_bill('N', 2, 5))  # Non-veg, 2 plates, 5 km distance\n",
    "print(calculate_final_bill('V', 3, 7))  # Veg, 3 plates, 7 km distance\n",
    "print(calculate_final_bill('X', 2, 5))  # Invalid food type\n",
    "print(calculate_final_bill('V', 0, 5))  # Invalid quantity\n",
    "print(calculate_final_bill('V', 2, -2)) # Invalid distance\n"
   ]
  },
  {
   "cell_type": "code",
   "execution_count": 42,
   "id": "6cc5b7e6-6a56-43df-aa42-9fcc82916740",
   "metadata": {},
   "outputs": [
    {
     "name": "stdout",
     "output_type": "stream",
     "text": [
      "Account Number: 1234\n",
      "Eligible Loan Amount: 7500000\n",
      "Requested Loan Amount: 7000000\n",
      "Requested EMI: 80\n",
      "Eligible EMI Count: 84\n",
      "Account Number: 1567\n",
      "Eligible Loan Amount: 500000\n",
      "Requested Loan Amount: 400000\n",
      "Requested EMI: 35\n",
      "Eligible EMI Count: 36\n",
      "Insufficient account balance\n",
      "Not eligible for loan\n"
     ]
    }
   ],
   "source": [
    "def check_loan_eligibility(account_number, account_balance, salary, loan_type, loan_amount_expected, customer_emi_expected):\n",
    "    # Validate account number\n",
    "    if len(str(account_number)) != 4 or str(account_number)[0] != '1':\n",
    "        return \"Invalid account number\"\n",
    "    \n",
    "    # Validate account balance\n",
    "    if account_balance < 100000:\n",
    "        return \"Insufficient account balance\"\n",
    "    \n",
    "    # Determine eligible loan and EMI based on salary\n",
    "    eligible_loan_amount = 0\n",
    "    eligible_emi_count = 0\n",
    "    \n",
    "    if salary > 75000 and loan_type == \"Business\":\n",
    "        eligible_loan_amount = 7500000\n",
    "        eligible_emi_count = 84\n",
    "    elif salary > 50000 and loan_type == \"House\":\n",
    "        eligible_loan_amount = 6000000\n",
    "        eligible_emi_count = 60\n",
    "    elif salary > 25000 and loan_type == \"Car\":\n",
    "        eligible_loan_amount = 500000\n",
    "        eligible_emi_count = 36\n",
    "    else:\n",
    "        return \"Not eligible for loan\"\n",
    "    \n",
    "    # Check if the requested loan and EMI are within the bank's offer\n",
    "    if loan_amount_expected <= eligible_loan_amount and customer_emi_expected <= eligible_emi_count:\n",
    "        return (f\"Account Number: {account_number}\\n\"\n",
    "                f\"Eligible Loan Amount: {eligible_loan_amount}\\n\"\n",
    "                f\"Requested Loan Amount: {loan_amount_expected}\\n\"\n",
    "                f\"Requested EMI: {customer_emi_expected}\\n\"\n",
    "                f\"Eligible EMI Count: {eligible_emi_count}\")\n",
    "    else:\n",
    "        return \"Loan amount or EMI requested exceeds bank's offer\"\n",
    "\n",
    "# Test cases\n",
    "print(check_loan_eligibility(1234, 120000, 80000, 'Business', 7000000, 80))\n",
    "print(check_loan_eligibility(1567, 150000, 30000, 'Car', 400000, 35))\n",
    "print(check_loan_eligibility(1987, 80000, 30000, 'Car', 400000, 30))  # Insufficient balance\n",
    "print(check_loan_eligibility(1456, 110000, 40000, 'House', 5500000, 60))  # Eligible for house loan\n"
   ]
  },
  {
   "cell_type": "code",
   "execution_count": 43,
   "id": "70ff5d36-ec5f-4b28-affe-810a9db40375",
   "metadata": {},
   "outputs": [
    {
     "name": "stdout",
     "output_type": "stream",
     "text": [
      "14.17\n",
      "50.0\n",
      "53.5\n",
      "60.81\n",
      "-1\n"
     ]
    }
   ],
   "source": [
    "def currency_calculator(inr_amount, currency_name):\n",
    "    # Exchange rates for supported currencies\n",
    "    exchange_rates = {\n",
    "        \"Euro\": 0.01417,\n",
    "        \"British Pound\": 0.0100,\n",
    "        \"Australian Dollar\": 0.02140,\n",
    "        \"Canadian Dollar\": 0.02027\n",
    "    }\n",
    "\n",
    "    # Check if the provided currency name is valid\n",
    "    if currency_name not in exchange_rates:\n",
    "        return -1  # Invalid currency name\n",
    "\n",
    "    # Get the exchange rate for the specified currency\n",
    "    exchange_rate = exchange_rates[currency_name]\n",
    "\n",
    "    # Calculate the amount in the foreign currency\n",
    "    foreign_currency_amount = inr_amount * exchange_rate\n",
    "\n",
    "    return foreign_currency_amount\n",
    "\n",
    "# Test cases to verify the solution\n",
    "print(currency_calculator(1000, \"Euro\"))  # Convert 1000 INR to Euro\n",
    "print(currency_calculator(5000, \"British Pound\"))  # Convert 5000 INR to British Pound\n",
    "print(currency_calculator(2500, \"Australian Dollar\"))  # Convert 2500 INR to Australian Dollar\n",
    "print(currency_calculator(3000, \"Canadian Dollar\"))  # Convert 3000 INR to Canadian Dollar\n",
    "print(currency_calculator(1000, \"Yen\"))  # Invalid currency name\n"
   ]
  },
  {
   "cell_type": "code",
   "execution_count": null,
   "id": "9003da59-eb04-48c8-8b91-87b29aeeaa19",
   "metadata": {},
   "outputs": [],
   "source": []
  }
 ],
 "metadata": {
  "kernelspec": {
   "display_name": "Python 3 (ipykernel)",
   "language": "python",
   "name": "python3"
  },
  "language_info": {
   "codemirror_mode": {
    "name": "ipython",
    "version": 3
   },
   "file_extension": ".py",
   "mimetype": "text/x-python",
   "name": "python",
   "nbconvert_exporter": "python",
   "pygments_lexer": "ipython3",
   "version": "3.11.5"
  }
 },
 "nbformat": 4,
 "nbformat_minor": 5
}
